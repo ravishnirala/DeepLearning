{
  "nbformat": 4,
  "nbformat_minor": 0,
  "metadata": {
    "colab": {
      "provenance": [],
      "mount_file_id": "1Wd46BWc_TEOLMOs7tKFf8qbD7YwMJm4m",
      "authorship_tag": "ABX9TyOYIhBqthBPICQfiVMcd4At",
      "include_colab_link": true
    },
    "kernelspec": {
      "name": "python3",
      "display_name": "Python 3"
    },
    "language_info": {
      "name": "python"
    }
  },
  "cells": [
    {
      "cell_type": "markdown",
      "metadata": {
        "id": "view-in-github",
        "colab_type": "text"
      },
      "source": [
        "<a href=\"https://colab.research.google.com/github/ravishnirala/DeepLearning/blob/main/Deeplearning_Project3.ipynb\" target=\"_parent\"><img src=\"https://colab.research.google.com/assets/colab-badge.svg\" alt=\"Open In Colab\"/></a>"
      ]
    },
    {
      "cell_type": "code",
      "execution_count": 59,
      "metadata": {
        "id": "9ivLmppgl3Em"
      },
      "outputs": [],
      "source": []
    },
    {
      "cell_type": "code",
      "execution_count": 60,
      "metadata": {
        "id": "6rZ82LXCWVvX"
      },
      "outputs": [],
      "source": [
        "# Importing some important library for face recognization by using CNN\n",
        "import os\n",
        "import cv2\n",
        "import numpy as np\n",
        "import pandas as pd\n",
        "import matplotlib.pyplot as plt\n",
        "import tensorflow as tf\n",
        "from tensorflow.keras.preprocessing.image import load_img, img_to_array\n",
        "from sklearn.model_selection import train_test_split"
      ]
    },
    {
      "cell_type": "code",
      "source": [
        "# Set the path to the directory containing the face images\n",
        "face_dir='/content/drive/MyDrive/archive (3)/images'"
      ],
      "metadata": {
        "id": "hurzu3kCYw8-"
      },
      "execution_count": 61,
      "outputs": []
    },
    {
      "cell_type": "code",
      "source": [
        "# Load the images and labels\n",
        "x_data=[]\n",
        "y_data=[]\n"
      ],
      "metadata": {
        "id": "s45oLJ7Uh7H2"
      },
      "execution_count": 62,
      "outputs": []
    },
    {
      "cell_type": "code",
      "source": [
        "#Iterate over the face image directory and load the images\n",
        "for filename in os.listdir(face_dir):\n",
        "   if filename.endswith(\".jpg\") or filename.endswith(\".png\"):\n",
        "       img_path=os.path.join(face_dir,filename)\n",
        "       img=load_img(img_path,target_size=(64,64))\n",
        "       img_array=img_to_array(img)\n",
        "       x_data.append(img_array)\n",
        "       label=filename.split(\".\")[0]\n",
        "       y_data.append(label)\n",
        "\n"
      ],
      "metadata": {
        "id": "ok4ZcroFiYV0"
      },
      "execution_count": 63,
      "outputs": []
    },
    {
      "cell_type": "code",
      "source": [
        "# Convert the data to numpy arrays\n",
        "x_data = np.array(x_data)\n",
        "y_data= np.array(y_data)"
      ],
      "metadata": {
        "id": "Zgt7trdNLpDS"
      },
      "execution_count": 64,
      "outputs": []
    },
    {
      "cell_type": "code",
      "source": [
        "print(x_data)\n",
        "print(y_data)"
      ],
      "metadata": {
        "colab": {
          "base_uri": "https://localhost:8080/"
        },
        "collapsed": true,
        "id": "UCggORFyoEFw",
        "outputId": "f2e30f8b-9350-45e8-b8e7-e394212e23f8"
      },
      "execution_count": 65,
      "outputs": [
        {
          "output_type": "stream",
          "name": "stdout",
          "text": [
            "[[[[226. 208. 162.]\n",
            "   [232. 210. 171.]\n",
            "   [229. 210. 167.]\n",
            "   ...\n",
            "   [182. 162. 127.]\n",
            "   [179. 160. 128.]\n",
            "   [171. 155. 122.]]\n",
            "\n",
            "  [[229. 208. 163.]\n",
            "   [230. 208. 167.]\n",
            "   [230. 212. 172.]\n",
            "   ...\n",
            "   [171. 155. 121.]\n",
            "   [181. 162. 130.]\n",
            "   [170. 155. 122.]]\n",
            "\n",
            "  [[236. 215. 170.]\n",
            "   [241. 222. 180.]\n",
            "   [235. 213. 172.]\n",
            "   ...\n",
            "   [170. 155. 122.]\n",
            "   [176. 155. 124.]\n",
            "   [177. 161. 128.]]\n",
            "\n",
            "  ...\n",
            "\n",
            "  [[177. 161. 135.]\n",
            "   [165. 145. 118.]\n",
            "   [183. 167. 144.]\n",
            "   ...\n",
            "   [129. 113. 100.]\n",
            "   [117. 105.  89.]\n",
            "   [145. 128. 120.]]\n",
            "\n",
            "  [[191. 168. 150.]\n",
            "   [171. 155. 129.]\n",
            "   [188. 171. 153.]\n",
            "   ...\n",
            "   [148. 136. 120.]\n",
            "   [136. 118. 106.]\n",
            "   [128. 112.  97.]]\n",
            "\n",
            "  [[190. 171. 154.]\n",
            "   [185. 166. 149.]\n",
            "   [173. 156. 136.]\n",
            "   ...\n",
            "   [142. 131. 113.]\n",
            "   [150. 138. 122.]\n",
            "   [127. 113. 100.]]]\n",
            "\n",
            "\n",
            " [[[141. 103.  82.]\n",
            "   [143. 105.  82.]\n",
            "   [147. 109.  90.]\n",
            "   ...\n",
            "   [127. 108. 101.]\n",
            "   [122. 105.  97.]\n",
            "   [129. 109. 100.]]\n",
            "\n",
            "  [[151. 115.  93.]\n",
            "   [147. 111.  89.]\n",
            "   [149. 111.  90.]\n",
            "   ...\n",
            "   [130. 113. 105.]\n",
            "   [127. 110. 102.]\n",
            "   [115.  98.  90.]]\n",
            "\n",
            "  [[135. 104.  83.]\n",
            "   [149. 114.  92.]\n",
            "   [144. 108.  84.]\n",
            "   ...\n",
            "   [123. 112. 108.]\n",
            "   [113. 102.  96.]\n",
            "   [108.  97.  91.]]\n",
            "\n",
            "  ...\n",
            "\n",
            "  [[219. 226. 172.]\n",
            "   [223. 230. 176.]\n",
            "   [228. 236. 179.]\n",
            "   ...\n",
            "   [218. 222. 163.]\n",
            "   [220. 223. 166.]\n",
            "   [222. 223. 163.]]\n",
            "\n",
            "  [[229. 237. 178.]\n",
            "   [226. 234. 175.]\n",
            "   [230. 235. 177.]\n",
            "   ...\n",
            "   [226. 230. 171.]\n",
            "   [224. 225. 167.]\n",
            "   [223. 227. 166.]]\n",
            "\n",
            "  [[238. 244. 184.]\n",
            "   [227. 233. 173.]\n",
            "   [237. 243. 183.]\n",
            "   ...\n",
            "   [217. 218. 158.]\n",
            "   [229. 230. 170.]\n",
            "   [222. 226. 165.]]]\n",
            "\n",
            "\n",
            " [[[255. 255. 255.]\n",
            "   [255. 255. 255.]\n",
            "   [255. 255. 255.]\n",
            "   ...\n",
            "   [254. 255. 255.]\n",
            "   [253. 254. 255.]\n",
            "   [253. 254. 255.]]\n",
            "\n",
            "  [[255. 255. 255.]\n",
            "   [255. 255. 255.]\n",
            "   [255. 255. 255.]\n",
            "   ...\n",
            "   [253. 254. 255.]\n",
            "   [253. 254. 255.]\n",
            "   [253. 254. 255.]]\n",
            "\n",
            "  [[255. 255. 255.]\n",
            "   [255. 255. 255.]\n",
            "   [255. 255. 255.]\n",
            "   ...\n",
            "   [255. 255. 255.]\n",
            "   [254. 255. 255.]\n",
            "   [252. 253. 255.]]\n",
            "\n",
            "  ...\n",
            "\n",
            "  [[199. 142.  75.]\n",
            "   [202. 153.  86.]\n",
            "   [201. 163. 100.]\n",
            "   ...\n",
            "   [176. 138.  76.]\n",
            "   [203. 165. 103.]\n",
            "   [178. 144.  96.]]\n",
            "\n",
            "  [[208. 157.  94.]\n",
            "   [216. 154.  95.]\n",
            "   [189. 149.  90.]\n",
            "   ...\n",
            "   [176. 129.  51.]\n",
            "   [206. 142.  68.]\n",
            "   [204. 174. 122.]]\n",
            "\n",
            "  [[203. 156. 100.]\n",
            "   [208. 147.  92.]\n",
            "   [209. 158.  93.]\n",
            "   ...\n",
            "   [177. 124.  54.]\n",
            "   [215. 137.  65.]\n",
            "   [191. 169. 109.]]]\n",
            "\n",
            "\n",
            " ...\n",
            "\n",
            "\n",
            " [[[173. 175. 170.]\n",
            "   [177. 182. 176.]\n",
            "   [173. 179. 179.]\n",
            "   ...\n",
            "   [200. 206. 204.]\n",
            "   [194. 199. 202.]\n",
            "   [198. 204. 202.]]\n",
            "\n",
            "  [[175. 180. 174.]\n",
            "   [179. 184. 178.]\n",
            "   [181. 186. 180.]\n",
            "   ...\n",
            "   [199. 203. 206.]\n",
            "   [198. 204. 204.]\n",
            "   [200. 204. 203.]]\n",
            "\n",
            "  [[171. 181. 173.]\n",
            "   [179. 182. 175.]\n",
            "   [183. 184. 179.]\n",
            "   ...\n",
            "   [203. 207. 208.]\n",
            "   [198. 202. 201.]\n",
            "   [202. 206. 205.]]\n",
            "\n",
            "  ...\n",
            "\n",
            "  [[ 21.  10.  14.]\n",
            "   [ 24.  14.  15.]\n",
            "   [ 22.  13.  18.]\n",
            "   ...\n",
            "   [ 27.  18.  21.]\n",
            "   [ 36.  25.  29.]\n",
            "   [ 27.  22.  19.]]\n",
            "\n",
            "  [[ 23.  14.  17.]\n",
            "   [ 15.   6.   9.]\n",
            "   [ 22.  13.  18.]\n",
            "   ...\n",
            "   [ 27.  17.  18.]\n",
            "   [ 28.  18.  19.]\n",
            "   [ 21.  15.  17.]]\n",
            "\n",
            "  [[ 17.   6.  12.]\n",
            "   [ 13.   7.  11.]\n",
            "   [ 17.   8.  11.]\n",
            "   ...\n",
            "   [ 27.  15.  17.]\n",
            "   [ 30.  20.  19.]\n",
            "   [ 27.  18.  23.]]]\n",
            "\n",
            "\n",
            " [[[166. 186. 184.]\n",
            "   [161. 180. 178.]\n",
            "   [177. 196. 194.]\n",
            "   ...\n",
            "   [166. 179. 170.]\n",
            "   [156. 169. 160.]\n",
            "   [164. 177. 168.]]\n",
            "\n",
            "  [[155. 177. 175.]\n",
            "   [161. 181. 179.]\n",
            "   [154. 173. 169.]\n",
            "   ...\n",
            "   [157. 167. 158.]\n",
            "   [146. 156. 147.]\n",
            "   [148. 160. 150.]]\n",
            "\n",
            "  [[152. 172. 171.]\n",
            "   [144. 164. 163.]\n",
            "   [146. 166. 164.]\n",
            "   ...\n",
            "   [147. 159. 149.]\n",
            "   [149. 161. 151.]\n",
            "   [157. 170. 160.]]\n",
            "\n",
            "  ...\n",
            "\n",
            "  [[248.  70.  82.]\n",
            "   [201.  23.  35.]\n",
            "   [192.  18.  28.]\n",
            "   ...\n",
            "   [217. 100. 144.]\n",
            "   [174.  49.  93.]\n",
            "   [221. 105. 142.]]\n",
            "\n",
            "  [[207.  37.  50.]\n",
            "   [239.  77.  88.]\n",
            "   [255. 111. 116.]\n",
            "   ...\n",
            "   [181.  67. 101.]\n",
            "   [244. 136. 168.]\n",
            "   [245. 137. 169.]]\n",
            "\n",
            "  [[233.  69.  80.]\n",
            "   [215.  47.  60.]\n",
            "   [202.  32.  45.]\n",
            "   ...\n",
            "   [188. 101. 117.]\n",
            "   [201. 119. 131.]\n",
            "   [207. 108. 129.]]]\n",
            "\n",
            "\n",
            " [[[237. 226. 222.]\n",
            "   [239. 228. 222.]\n",
            "   [241. 230. 226.]\n",
            "   ...\n",
            "   [255. 251. 242.]\n",
            "   [255. 249. 241.]\n",
            "   [254. 247. 239.]]\n",
            "\n",
            "  [[239. 228. 224.]\n",
            "   [236. 225. 221.]\n",
            "   [241. 230. 226.]\n",
            "   ...\n",
            "   [255. 244. 238.]\n",
            "   [255. 248. 242.]\n",
            "   [254. 241. 235.]]\n",
            "\n",
            "  [[235. 224. 220.]\n",
            "   [236. 225. 221.]\n",
            "   [236. 225. 221.]\n",
            "   ...\n",
            "   [254. 244. 242.]\n",
            "   [253. 243. 241.]\n",
            "   [250. 239. 235.]]\n",
            "\n",
            "  ...\n",
            "\n",
            "  [[206. 168. 147.]\n",
            "   [203. 165. 144.]\n",
            "   [202. 164. 143.]\n",
            "   ...\n",
            "   [230. 194. 178.]\n",
            "   [234. 198. 182.]\n",
            "   [229. 193. 177.]]\n",
            "\n",
            "  [[203. 165. 142.]\n",
            "   [200. 164. 142.]\n",
            "   [198. 163. 141.]\n",
            "   ...\n",
            "   [234. 201. 186.]\n",
            "   [234. 198. 182.]\n",
            "   [231. 194. 175.]]\n",
            "\n",
            "  [[199. 161. 140.]\n",
            "   [197. 159. 140.]\n",
            "   [196. 159. 140.]\n",
            "   ...\n",
            "   [229. 197. 184.]\n",
            "   [228. 197. 179.]\n",
            "   [231. 196. 177.]]]]\n",
            "['26' '25' '24' '3' '29' '28' '23' '27' '30' '35' '32' '42' '38' '40' '33'\n",
            " '39' '4' '34' '36' '43' '41' '37' '31' '47' '46' '52' '48' '53' '55' '54'\n",
            " '49' '50' '51' '44' '45' '5' '62' '57' '61' '59' '6' '68' '66' '56' '69'\n",
            " '67' '63' '64' '65' '60' '58' '7' '70' '72' '76' '74' '73' '77' '78' '71'\n",
            " '75' '81' '84' '88' '86' '80' '87' '83' '91' '79' '85' '9' '89' '90' '8'\n",
            " '82' '95' '92' '93' '94' '97' '96' '98' '99']\n"
          ]
        }
      ]
    },
    {
      "cell_type": "code",
      "source": [
        "#Extract numeric part from filesnames\n",
        "y_data_numeric = np.array([int(label) for label in y_data if label.isdigit()])\n"
      ],
      "metadata": {
        "id": "9-fEVjVGL8A7"
      },
      "execution_count": 66,
      "outputs": []
    },
    {
      "cell_type": "code",
      "source": [
        "print(y_data_numeric)\n",
        "# sorted list of y_data_numeric\n",
        "print(np.unique(y_data_numeric))"
      ],
      "metadata": {
        "colab": {
          "base_uri": "https://localhost:8080/"
        },
        "id": "8CKZnGrlUEB0",
        "outputId": "16d6c1b3-a979-48a3-b8bb-f7d9f9d09846"
      },
      "execution_count": 67,
      "outputs": [
        {
          "output_type": "stream",
          "name": "stdout",
          "text": [
            "[26 25 24  3 29 28 23 27 30 35 32 42 38 40 33 39  4 34 36 43 41 37 31 47\n",
            " 46 52 48 53 55 54 49 50 51 44 45  5 62 57 61 59  6 68 66 56 69 67 63 64\n",
            " 65 60 58  7 70 72 76 74 73 77 78 71 75 81 84 88 86 80 87 83 91 79 85  9\n",
            " 89 90  8 82 95 92 93 94 97 96 98 99]\n",
            "[ 3  4  5  6  7  8  9 23 24 25 26 27 28 29 30 31 32 33 34 35 36 37 38 39\n",
            " 40 41 42 43 44 45 46 47 48 49 50 51 52 53 54 55 56 57 58 59 60 61 62 63\n",
            " 64 65 66 67 68 69 70 71 72 73 74 75 76 77 78 79 80 81 82 83 84 85 86 87\n",
            " 88 89 90 91 92 93 94 95 96 97 98 99]\n"
          ]
        }
      ]
    },
    {
      "cell_type": "code",
      "source": [
        "\n",
        "# Ensure data shapes match\n",
        "if x_data.shape[0] != y_data_numeric.shape[0]:\n",
        "    min_length = min(x_data.shape[0], y_data_numeric.shape[0])\n",
        "    x_data = x_data[:min_length]\n",
        "    y_data_numeric = y_data_numeric[:min_length]\n",
        "\n",
        "# Calculate num_classes based on unique values in y_data_numeric\n",
        "if len(y_data_numeric) == 0:\n",
        "    num_classes = 1  # Set a default value for num_classes\n",
        "else:\n",
        "    num_classes = np.max(y_data_numeric) + 1  # Calculate num_classes based on the maximum value in y_data_numeric\n",
        "\n",
        "# Convert labels to one-hot encoded vectors\n",
        "y_data_encoded = tf.keras.utils.to_categorical(y_data_numeric, num_classes)\n",
        "\n",
        "# Ensure that x_data and y_data_encoded have the same number of samples\n",
        "x_data = x_data[:len(y_data_encoded)]\n",
        "\n",
        "print(y_data_encoded)\n",
        "print(len(y_data_encoded))\n",
        "print(len(x_data))\n",
        "print(y_data_encoded.shape)\n",
        "print(x_data.shape)\n",
        "\n"
      ],
      "metadata": {
        "id": "nXSwi5Cjb1d2",
        "colab": {
          "base_uri": "https://localhost:8080/"
        },
        "collapsed": true,
        "outputId": "760504cb-3281-4e1b-da29-144160a41e5c"
      },
      "execution_count": 68,
      "outputs": [
        {
          "output_type": "stream",
          "name": "stdout",
          "text": [
            "[[0. 0. 0. ... 0. 0. 0.]\n",
            " [0. 0. 0. ... 0. 0. 0.]\n",
            " [0. 0. 0. ... 0. 0. 0.]\n",
            " ...\n",
            " [0. 0. 0. ... 0. 0. 0.]\n",
            " [0. 0. 0. ... 0. 1. 0.]\n",
            " [0. 0. 0. ... 0. 0. 1.]]\n",
            "84\n",
            "84\n",
            "(84, 100)\n",
            "(84, 64, 64, 3)\n"
          ]
        }
      ]
    },
    {
      "cell_type": "code",
      "source": [
        "# Split the data into training and validation sets\n",
        "x_train, x_val, y_train, y_val = train_test_split(x_data, y_data_encoded, test_size=0.2, random_state=42)\n",
        "\n",
        "print(f'x_train shape: {x_train.shape}')\n",
        "print(f'x_val shape: {x_val.shape}')\n",
        "print(f'y_train shape: {y_train.shape}')\n",
        "print(f'y_val shape: {y_val.shape}')"
      ],
      "metadata": {
        "colab": {
          "base_uri": "https://localhost:8080/"
        },
        "id": "JKkzdPSl3Zm6",
        "outputId": "e15f5fc7-ccda-4922-e555-1e1a837c7762"
      },
      "execution_count": 69,
      "outputs": [
        {
          "output_type": "stream",
          "name": "stdout",
          "text": [
            "x_train shape: (67, 64, 64, 3)\n",
            "x_val shape: (17, 64, 64, 3)\n",
            "y_train shape: (67, 100)\n",
            "y_val shape: (17, 100)\n"
          ]
        }
      ]
    },
    {
      "cell_type": "code",
      "source": [
        "# Define the CNN architecture for face recognition\n",
        "model=tf.keras.models.Sequential([\n",
        "    tf.keras.layers.Conv2D(32,(3,3),activation='relu',input_shape=(64,64,3)),\n",
        "    tf.keras.layers.MaxPooling2D(2,2),\n",
        "    tf.keras.layers.Flatten(),\n",
        "    tf.keras.layers.Dense(128,activation='relu'),\n",
        "    tf.keras.layers.Dense(num_classes,activation='softmax')\n",
        "])"
      ],
      "metadata": {
        "id": "4lLGxGK-flhm"
      },
      "execution_count": 70,
      "outputs": []
    },
    {
      "cell_type": "code",
      "source": [
        "#Compile the model\n",
        "model.compile(optimizer='adam',loss='categorical_crossentropy',metrics=['accuracy'])"
      ],
      "metadata": {
        "id": "41KqOv3YhS3E"
      },
      "execution_count": 71,
      "outputs": []
    },
    {
      "cell_type": "code",
      "source": [
        "#Train the CNN model\n",
        "model.fit(x_train,y_train,epochs=10,batch_size=32,validation_data=(x_val,y_val))"
      ],
      "metadata": {
        "id": "VjSSW4iBhcH8",
        "colab": {
          "base_uri": "https://localhost:8080/"
        },
        "outputId": "cd709d93-601d-4987-8030-773e6060a67f"
      },
      "execution_count": 72,
      "outputs": [
        {
          "output_type": "stream",
          "name": "stdout",
          "text": [
            "Epoch 1/10\n",
            "\u001b[1m3/3\u001b[0m \u001b[32m━━━━━━━━━━━━━━━━━━━━\u001b[0m\u001b[37m\u001b[0m \u001b[1m2s\u001b[0m 285ms/step - accuracy: 0.0000e+00 - loss: 457.9560 - val_accuracy: 0.0588 - val_loss: 1597.3275\n",
            "Epoch 2/10\n",
            "\u001b[1m3/3\u001b[0m \u001b[32m━━━━━━━━━━━━━━━━━━━━\u001b[0m\u001b[37m\u001b[0m \u001b[1m1s\u001b[0m 206ms/step - accuracy: 0.0114 - loss: 1392.3418 - val_accuracy: 0.0000e+00 - val_loss: 1116.6730\n",
            "Epoch 3/10\n",
            "\u001b[1m3/3\u001b[0m \u001b[32m━━━━━━━━━━━━━━━━━━━━\u001b[0m\u001b[37m\u001b[0m \u001b[1m1s\u001b[0m 186ms/step - accuracy: 0.0419 - loss: 808.4313 - val_accuracy: 0.0000e+00 - val_loss: 834.3301\n",
            "Epoch 4/10\n",
            "\u001b[1m3/3\u001b[0m \u001b[32m━━━━━━━━━━━━━━━━━━━━\u001b[0m\u001b[37m\u001b[0m \u001b[1m1s\u001b[0m 118ms/step - accuracy: 0.0306 - loss: 555.0646 - val_accuracy: 0.0588 - val_loss: 470.1329\n",
            "Epoch 5/10\n",
            "\u001b[1m3/3\u001b[0m \u001b[32m━━━━━━━━━━━━━━━━━━━━\u001b[0m\u001b[37m\u001b[0m \u001b[1m1s\u001b[0m 109ms/step - accuracy: 0.0419 - loss: 275.8728 - val_accuracy: 0.0000e+00 - val_loss: 275.3806\n",
            "Epoch 6/10\n",
            "\u001b[1m3/3\u001b[0m \u001b[32m━━━━━━━━━━━━━━━━━━━━\u001b[0m\u001b[37m\u001b[0m \u001b[1m0s\u001b[0m 107ms/step - accuracy: 0.1297 - loss: 125.5829 - val_accuracy: 0.0000e+00 - val_loss: 171.1439\n",
            "Epoch 7/10\n",
            "\u001b[1m3/3\u001b[0m \u001b[32m━━━━━━━━━━━━━━━━━━━━\u001b[0m\u001b[37m\u001b[0m \u001b[1m0s\u001b[0m 111ms/step - accuracy: 0.2213 - loss: 61.2449 - val_accuracy: 0.0588 - val_loss: 121.7100\n",
            "Epoch 8/10\n",
            "\u001b[1m3/3\u001b[0m \u001b[32m━━━━━━━━━━━━━━━━━━━━\u001b[0m\u001b[37m\u001b[0m \u001b[1m1s\u001b[0m 111ms/step - accuracy: 0.3396 - loss: 33.8688 - val_accuracy: 0.0000e+00 - val_loss: 92.2823\n",
            "Epoch 9/10\n",
            "\u001b[1m3/3\u001b[0m \u001b[32m━━━━━━━━━━━━━━━━━━━━\u001b[0m\u001b[37m\u001b[0m \u001b[1m0s\u001b[0m 123ms/step - accuracy: 0.4380 - loss: 23.7209 - val_accuracy: 0.0000e+00 - val_loss: 71.7568\n",
            "Epoch 10/10\n",
            "\u001b[1m3/3\u001b[0m \u001b[32m━━━━━━━━━━━━━━━━━━━━\u001b[0m\u001b[37m\u001b[0m \u001b[1m0s\u001b[0m 123ms/step - accuracy: 0.5648 - loss: 12.3785 - val_accuracy: 0.0000e+00 - val_loss: 54.4440\n"
          ]
        },
        {
          "output_type": "execute_result",
          "data": {
            "text/plain": [
              "<keras.src.callbacks.history.History at 0x7bb69caa1e40>"
            ]
          },
          "metadata": {},
          "execution_count": 72
        }
      ]
    },
    {
      "cell_type": "code",
      "source": [
        "!pip install opencv-python\n",
        "!pip install mtcnn\n",
        "import cv2\n",
        "from google.colab.patches import cv2_imshow\n",
        "from mtcnn.mtcnn import MTCNN\n",
        "detector=MTCNN()\n"
      ],
      "metadata": {
        "colab": {
          "base_uri": "https://localhost:8080/"
        },
        "collapsed": true,
        "id": "hSYye9QHs_-u",
        "outputId": "368897c4-5643-42ed-cb7e-2eef8cfb70f4"
      },
      "execution_count": 73,
      "outputs": [
        {
          "output_type": "stream",
          "name": "stdout",
          "text": [
            "Requirement already satisfied: opencv-python in /usr/local/lib/python3.10/dist-packages (4.10.0.84)\n",
            "Requirement already satisfied: numpy>=1.21.2 in /usr/local/lib/python3.10/dist-packages (from opencv-python) (1.26.4)\n",
            "Requirement already satisfied: mtcnn in /usr/local/lib/python3.10/dist-packages (0.1.1)\n",
            "Requirement already satisfied: keras>=2.0.0 in /usr/local/lib/python3.10/dist-packages (from mtcnn) (3.4.1)\n",
            "Requirement already satisfied: opencv-python>=4.1.0 in /usr/local/lib/python3.10/dist-packages (from mtcnn) (4.10.0.84)\n",
            "Requirement already satisfied: absl-py in /usr/local/lib/python3.10/dist-packages (from keras>=2.0.0->mtcnn) (1.4.0)\n",
            "Requirement already satisfied: numpy in /usr/local/lib/python3.10/dist-packages (from keras>=2.0.0->mtcnn) (1.26.4)\n",
            "Requirement already satisfied: rich in /usr/local/lib/python3.10/dist-packages (from keras>=2.0.0->mtcnn) (13.8.0)\n",
            "Requirement already satisfied: namex in /usr/local/lib/python3.10/dist-packages (from keras>=2.0.0->mtcnn) (0.0.8)\n",
            "Requirement already satisfied: h5py in /usr/local/lib/python3.10/dist-packages (from keras>=2.0.0->mtcnn) (3.11.0)\n",
            "Requirement already satisfied: optree in /usr/local/lib/python3.10/dist-packages (from keras>=2.0.0->mtcnn) (0.12.1)\n",
            "Requirement already satisfied: ml-dtypes in /usr/local/lib/python3.10/dist-packages (from keras>=2.0.0->mtcnn) (0.4.0)\n",
            "Requirement already satisfied: packaging in /usr/local/lib/python3.10/dist-packages (from keras>=2.0.0->mtcnn) (24.1)\n",
            "Requirement already satisfied: typing-extensions>=4.5.0 in /usr/local/lib/python3.10/dist-packages (from optree->keras>=2.0.0->mtcnn) (4.12.2)\n",
            "Requirement already satisfied: markdown-it-py>=2.2.0 in /usr/local/lib/python3.10/dist-packages (from rich->keras>=2.0.0->mtcnn) (3.0.0)\n",
            "Requirement already satisfied: pygments<3.0.0,>=2.13.0 in /usr/local/lib/python3.10/dist-packages (from rich->keras>=2.0.0->mtcnn) (2.16.1)\n",
            "Requirement already satisfied: mdurl~=0.1 in /usr/local/lib/python3.10/dist-packages (from markdown-it-py>=2.2.0->rich->keras>=2.0.0->mtcnn) (0.1.2)\n"
          ]
        }
      ]
    },
    {
      "cell_type": "code",
      "source": [
        "# Function to detect and display face in the image at the given index\n",
        "def detect_and_display_face(index):\n",
        "    if index < 0 or index >= len(x_data):\n",
        "        print(f\"Index out of range. Please enter a number between 0 and {len(x_data) - 1}.\")\n",
        "        return\n",
        "\n",
        "    # Detect faces in the specified image\n",
        "    detect = detector.detect_faces(x_data[index])\n",
        "    if not detect:\n",
        "        print(\"No face detected in the specified image.\")\n",
        "        return\n",
        "\n",
        "    # Get the bounding box of the first detected face\n",
        "    x, y, w, h = detect[0]['box']\n",
        "\n",
        "    # Draw a rectangle around the detected face\n",
        "    img_with_box = x_data[index].copy()\n",
        "    cv2.rectangle(img_with_box, pt1=(x, y), pt2=(x + w, y + h), color=(255, 0, 0), thickness=2)\n",
        "\n",
        "    # Display the image with the detected face\n",
        "    cv2_imshow(img_with_box)\n",
        "    cv2.waitKey(0)\n",
        "    cv2.destroyAllWindows()\n",
        "\n",
        "# Get user input for the index\n",
        "try:\n",
        "    index = int(input(f\"Enter an index between 0 and {len(x_data) - 1}: \"))\n",
        "    detect_and_display_face(index)\n",
        "except ValueError:\n",
        "    print(\"Invalid input. Please enter an integer.\")\n"
      ],
      "metadata": {
        "colab": {
          "base_uri": "https://localhost:8080/",
          "height": 202
        },
        "id": "G3V8Owj1NC0R",
        "outputId": "43e00996-11b3-41da-9b96-157b1d7dc342"
      },
      "execution_count": 76,
      "outputs": [
        {
          "output_type": "stream",
          "name": "stdout",
          "text": [
            "Enter an index between 0 and 83: 50\n",
            "\u001b[1m1/1\u001b[0m \u001b[32m━━━━━━━━━━━━━━━━━━━━\u001b[0m\u001b[37m\u001b[0m \u001b[1m0s\u001b[0m 22ms/step\n",
            "\u001b[1m1/1\u001b[0m \u001b[32m━━━━━━━━━━━━━━━━━━━━\u001b[0m\u001b[37m\u001b[0m \u001b[1m0s\u001b[0m 22ms/step\n",
            "\u001b[1m1/1\u001b[0m \u001b[32m━━━━━━━━━━━━━━━━━━━━\u001b[0m\u001b[37m\u001b[0m \u001b[1m0s\u001b[0m 23ms/step\n",
            "\u001b[1m1/1\u001b[0m \u001b[32m━━━━━━━━━━━━━━━━━━━━\u001b[0m\u001b[37m\u001b[0m \u001b[1m0s\u001b[0m 20ms/step\n",
            "\u001b[1m1/1\u001b[0m \u001b[32m━━━━━━━━━━━━━━━━━━━━\u001b[0m\u001b[37m\u001b[0m \u001b[1m0s\u001b[0m 23ms/step\n",
            "\u001b[1m1/1\u001b[0m \u001b[32m━━━━━━━━━━━━━━━━━━━━\u001b[0m\u001b[37m\u001b[0m \u001b[1m0s\u001b[0m 29ms/step\n"
          ]
        },
        {
          "output_type": "display_data",
          "data": {
            "text/plain": [
              "<PIL.Image.Image image mode=RGB size=64x64>"
            ],
            "image/png": "[encoded data removed]"
          },
          "metadata": {}
        }
      ]
    }
  ]
}